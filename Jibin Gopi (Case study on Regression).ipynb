{
 "cells": [
  {
   "cell_type": "code",
   "execution_count": 1,
   "id": "e9991dc1",
   "metadata": {},
   "outputs": [],
   "source": [
    "import pandas as pd\n",
    "import numpy as np\n",
    "import seaborn as sns\n",
    "import matplotlib.pyplot as plt\n",
    "%matplotlib inline\n"
   ]
  },
  {
   "cell_type": "code",
   "execution_count": 2,
   "id": "c921d404",
   "metadata": {},
   "outputs": [],
   "source": [
    "df=pd.read_csv(r'C:\\Users\\jibin\\Downloads\\car_age_price.csv')"
   ]
  },
  {
   "cell_type": "code",
   "execution_count": 3,
   "id": "46123c64",
   "metadata": {},
   "outputs": [
    {
     "data": {
      "text/html": [
       "<div>\n",
       "<style scoped>\n",
       "    .dataframe tbody tr th:only-of-type {\n",
       "        vertical-align: middle;\n",
       "    }\n",
       "\n",
       "    .dataframe tbody tr th {\n",
       "        vertical-align: top;\n",
       "    }\n",
       "\n",
       "    .dataframe thead th {\n",
       "        text-align: right;\n",
       "    }\n",
       "</style>\n",
       "<table border=\"1\" class=\"dataframe\">\n",
       "  <thead>\n",
       "    <tr style=\"text-align: right;\">\n",
       "      <th></th>\n",
       "      <th>Year</th>\n",
       "      <th>Price</th>\n",
       "    </tr>\n",
       "  </thead>\n",
       "  <tbody>\n",
       "    <tr>\n",
       "      <th>0</th>\n",
       "      <td>2018</td>\n",
       "      <td>465000</td>\n",
       "    </tr>\n",
       "    <tr>\n",
       "      <th>1</th>\n",
       "      <td>2019</td>\n",
       "      <td>755000</td>\n",
       "    </tr>\n",
       "    <tr>\n",
       "      <th>2</th>\n",
       "      <td>2019</td>\n",
       "      <td>700000</td>\n",
       "    </tr>\n",
       "    <tr>\n",
       "      <th>3</th>\n",
       "      <td>2018</td>\n",
       "      <td>465000</td>\n",
       "    </tr>\n",
       "    <tr>\n",
       "      <th>4</th>\n",
       "      <td>2018</td>\n",
       "      <td>465000</td>\n",
       "    </tr>\n",
       "  </tbody>\n",
       "</table>\n",
       "</div>"
      ],
      "text/plain": [
       "   Year   Price\n",
       "0  2018  465000\n",
       "1  2019  755000\n",
       "2  2019  700000\n",
       "3  2018  465000\n",
       "4  2018  465000"
      ]
     },
     "execution_count": 3,
     "metadata": {},
     "output_type": "execute_result"
    }
   ],
   "source": [
    "df.head()"
   ]
  },
  {
   "cell_type": "code",
   "execution_count": 4,
   "id": "9a96c4a4",
   "metadata": {},
   "outputs": [
    {
     "data": {
      "text/plain": [
       "(112, 2)"
      ]
     },
     "execution_count": 4,
     "metadata": {},
     "output_type": "execute_result"
    }
   ],
   "source": [
    "df.shape"
   ]
  },
  {
   "cell_type": "code",
   "execution_count": 5,
   "id": "98f39d7b",
   "metadata": {},
   "outputs": [
    {
     "name": "stdout",
     "output_type": "stream",
     "text": [
      "<class 'pandas.core.frame.DataFrame'>\n",
      "RangeIndex: 112 entries, 0 to 111\n",
      "Data columns (total 2 columns):\n",
      " #   Column  Non-Null Count  Dtype\n",
      "---  ------  --------------  -----\n",
      " 0   Year    112 non-null    int64\n",
      " 1   Price   112 non-null    int64\n",
      "dtypes: int64(2)\n",
      "memory usage: 1.9 KB\n"
     ]
    }
   ],
   "source": [
    "df.info()\n"
   ]
  },
  {
   "cell_type": "code",
   "execution_count": 6,
   "id": "135fe835",
   "metadata": {},
   "outputs": [
    {
     "data": {
      "text/plain": [
       "array([[2018],\n",
       "       [2019],\n",
       "       [2019],\n",
       "       [2018],\n",
       "       [2018],\n",
       "       [2015],\n",
       "       [2016],\n",
       "       [2017],\n",
       "       [2017],\n",
       "       [2017],\n",
       "       [2019],\n",
       "       [2018],\n",
       "       [2017],\n",
       "       [2019],\n",
       "       [2017],\n",
       "       [2017],\n",
       "       [2017],\n",
       "       [2017],\n",
       "       [2019],\n",
       "       [2017],\n",
       "       [2018],\n",
       "       [2019],\n",
       "       [2015],\n",
       "       [2017],\n",
       "       [2017],\n",
       "       [2017],\n",
       "       [2017],\n",
       "       [2017],\n",
       "       [2017],\n",
       "       [2017],\n",
       "       [2019],\n",
       "       [2017],\n",
       "       [2017],\n",
       "       [2017],\n",
       "       [2017],\n",
       "       [2017],\n",
       "       [2017],\n",
       "       [2017],\n",
       "       [2018],\n",
       "       [2020],\n",
       "       [2019],\n",
       "       [2019],\n",
       "       [2018],\n",
       "       [2019],\n",
       "       [2019],\n",
       "       [2018],\n",
       "       [2019],\n",
       "       [2018],\n",
       "       [2016],\n",
       "       [2018],\n",
       "       [2013],\n",
       "       [2018],\n",
       "       [2013],\n",
       "       [2013],\n",
       "       [2017],\n",
       "       [2017],\n",
       "       [2014],\n",
       "       [2017],\n",
       "       [2014],\n",
       "       [2016],\n",
       "       [2015],\n",
       "       [2017],\n",
       "       [2017],\n",
       "       [2017],\n",
       "       [2015],\n",
       "       [2017],\n",
       "       [2017],\n",
       "       [2015],\n",
       "       [2015],\n",
       "       [2015],\n",
       "       [2015],\n",
       "       [2017],\n",
       "       [2015],\n",
       "       [2013],\n",
       "       [2017],\n",
       "       [2017],\n",
       "       [2015],\n",
       "       [2015],\n",
       "       [2015],\n",
       "       [2015],\n",
       "       [2015],\n",
       "       [2014],\n",
       "       [2015],\n",
       "       [2017],\n",
       "       [2015],\n",
       "       [2015],\n",
       "       [2017],\n",
       "       [2017],\n",
       "       [2017],\n",
       "       [2017],\n",
       "       [2017],\n",
       "       [2017],\n",
       "       [2017],\n",
       "       [2017],\n",
       "       [2017],\n",
       "       [2017],\n",
       "       [2017],\n",
       "       [2020],\n",
       "       [2020],\n",
       "       [2020],\n",
       "       [2016],\n",
       "       [2015],\n",
       "       [2015],\n",
       "       [2017],\n",
       "       [2014],\n",
       "       [2014],\n",
       "       [2015],\n",
       "       [2016],\n",
       "       [2014],\n",
       "       [2015],\n",
       "       [2016],\n",
       "       [2015]], dtype=int64)"
      ]
     },
     "execution_count": 6,
     "metadata": {},
     "output_type": "execute_result"
    }
   ],
   "source": [
    "x=df.iloc[:, :-1].values\n",
    "x"
   ]
  },
  {
   "cell_type": "code",
   "execution_count": 7,
   "id": "b825cb1b",
   "metadata": {},
   "outputs": [
    {
     "data": {
      "text/plain": [
       "array([465000, 755000, 700000, 465000, 465000, 350000, 425000, 575000,\n",
       "       509999, 575000, 500000, 500000, 500000, 600000, 475000, 500000,\n",
       "       500000, 550000, 500000, 500000, 500000, 500000, 434999, 550000,\n",
       "       550000, 550000, 550000, 550000, 550000, 550000, 650000, 550000,\n",
       "       550000, 550000, 450000, 550000, 550000, 486000, 475000, 545000,\n",
       "       525000, 600000, 550000, 550000, 550000, 450000, 500000, 450000,\n",
       "       396000, 600000, 325000, 550000, 345000, 345000, 525000, 550000,\n",
       "       341000, 550000, 450000, 550000, 490000, 540000, 540000, 595000,\n",
       "       490000, 495000, 525000, 400000, 465000, 300000, 450000, 490000,\n",
       "       300000, 320000, 490000, 490000, 450000, 325000, 409999, 400000,\n",
       "       390000, 390000, 390000, 480000, 325000, 320000, 520000, 520000,\n",
       "       520000, 520000, 520000, 520000, 520000, 520000, 520000, 520000,\n",
       "       520000, 640000, 700000, 600000, 350000, 400000, 350000, 375000,\n",
       "       400000, 400000, 300000, 375000, 300000, 425000, 420000, 425000],\n",
       "      dtype=int64)"
      ]
     },
     "execution_count": 7,
     "metadata": {},
     "output_type": "execute_result"
    }
   ],
   "source": [
    "y=df.iloc[:, 1].values\n",
    "y"
   ]
  },
  {
   "cell_type": "markdown",
   "id": "4c846921",
   "metadata": {},
   "source": [
    "## Finding Relationship"
   ]
  },
  {
   "cell_type": "code",
   "execution_count": 8,
   "id": "b3720e28",
   "metadata": {},
   "outputs": [
    {
     "data": {
      "text/plain": [
       "<matplotlib.collections.PathCollection at 0x1718ae76bb0>"
      ]
     },
     "execution_count": 8,
     "metadata": {},
     "output_type": "execute_result"
    },
    {
     "data": {
      "image/png": "[encoded data removed]",
      "text/plain": [
       "<Figure size 432x288 with 1 Axes>"
      ]
     },
     "metadata": {
      "needs_background": "light"
     },
     "output_type": "display_data"
    }
   ],
   "source": [
    "plt.title('Price and Year of Mfg(second-hand Hyundai grand i10 car)Relationship', color=\"Green\")\n",
    "plt.xlabel('Year',color='blue')\n",
    "plt.ylabel('Price',color='blue')\n",
    "plt.scatter(df.Year,df.Price)"
   ]
  },
  {
   "cell_type": "markdown",
   "id": "77d8170f",
   "metadata": {},
   "source": [
    "## Splitting data for training and testing"
   ]
  },
  {
   "cell_type": "code",
   "execution_count": 9,
   "id": "7e98e011",
   "metadata": {},
   "outputs": [],
   "source": [
    "from sklearn.model_selection import train_test_split\n",
    "x_train,x_test,y_train,y_test=train_test_split(x,y,test_size=0.3,random_state=2)\n"
   ]
  },
  {
   "cell_type": "markdown",
   "id": "abfcce1a",
   "metadata": {},
   "source": [
    "## Creating the Linear Regression"
   ]
  },
  {
   "cell_type": "code",
   "execution_count": 10,
   "id": "5f4728d2",
   "metadata": {},
   "outputs": [],
   "source": [
    "from sklearn.linear_model import LinearRegression\n",
    "lr=LinearRegression() "
   ]
  },
  {
   "cell_type": "code",
   "execution_count": 11,
   "id": "703541c0",
   "metadata": {},
   "outputs": [],
   "source": [
    "lr=lr.fit(x_train,y_train)"
   ]
  },
  {
   "cell_type": "code",
   "execution_count": 12,
   "id": "83f588de",
   "metadata": {},
   "outputs": [
    {
     "data": {
      "text/plain": [
       "[<matplotlib.lines.Line2D at 0x1718bb2f490>]"
      ]
     },
     "execution_count": 12,
     "metadata": {},
     "output_type": "execute_result"
    },
    {
     "data": {
      "image/png": "[encoded data removed]",
      "text/plain": [
       "<Figure size 432x288 with 1 Axes>"
      ]
     },
     "metadata": {
      "needs_background": "light"
     },
     "output_type": "display_data"
    }
   ],
   "source": [
    "plt.scatter(x_train,y_train)\n",
    "plt.title('Price and Year training data plot',color='green')\n",
    "plt.xlabel('Year',color='blue')\n",
    "plt.ylabel('Price',color='blue')\n",
    "plt.plot(x_train,lr.predict(x_train),color='red')"
   ]
  },
  {
   "cell_type": "code",
   "execution_count": 13,
   "id": "f628c961",
   "metadata": {},
   "outputs": [
    {
     "data": {
      "text/plain": [
       "[<matplotlib.lines.Line2D at 0x1718bb9da00>]"
      ]
     },
     "execution_count": 13,
     "metadata": {},
     "output_type": "execute_result"
    },
    {
     "data": {
      "image/png": "[encoded data removed]",
      "text/plain": [
       "<Figure size 432x288 with 1 Axes>"
      ]
     },
     "metadata": {
      "needs_background": "light"
     },
     "output_type": "display_data"
    }
   ],
   "source": [
    "plt.scatter(x_test,y_test)\n",
    "plt.title('Price and Year testing data plot',color='green')\n",
    "plt.xlabel('Year',color='blue')\n",
    "plt.ylabel('Price',color='blue')\n",
    "plt.plot(x_test,lr.predict(x_test),color='yellow')"
   ]
  },
  {
   "cell_type": "markdown",
   "id": "e3337641",
   "metadata": {},
   "source": [
    "## Predicting price(2022)"
   ]
  },
  {
   "cell_type": "code",
   "execution_count": 14,
   "id": "08b200a7",
   "metadata": {},
   "outputs": [
    {
     "data": {
      "text/plain": [
       "array([701311.43135265])"
      ]
     },
     "execution_count": 14,
     "metadata": {},
     "output_type": "execute_result"
    }
   ],
   "source": [
    "lr.predict(np.array(2022).reshape(-1,1))"
   ]
  },
  {
   "cell_type": "code",
   "execution_count": 15,
   "id": "eec9c367",
   "metadata": {},
   "outputs": [
    {
     "data": {
      "text/plain": [
       "0.5641375460639686"
      ]
     },
     "execution_count": 15,
     "metadata": {},
     "output_type": "execute_result"
    }
   ],
   "source": [
    "lr.score(x_test,y_test)"
   ]
  },
  {
   "cell_type": "code",
   "execution_count": 16,
   "id": "d14eaba7",
   "metadata": {},
   "outputs": [
    {
     "data": {
      "text/plain": [
       "0.5864766708943852"
      ]
     },
     "execution_count": 16,
     "metadata": {},
     "output_type": "execute_result"
    }
   ],
   "source": [
    "lr.score(x_train,y_train)  # it is clearly understand that data set is overfit as compared to testing data. This can can be address using lasso regression."
   ]
  },
  {
   "cell_type": "markdown",
   "id": "aefdc5c0",
   "metadata": {},
   "source": [
    "## Lasso Regression( L1 Regularisation)"
   ]
  },
  {
   "cell_type": "code",
   "execution_count": 17,
   "id": "bcf18375",
   "metadata": {},
   "outputs": [
    {
     "data": {
      "text/plain": [
       "Lasso(alpha=50, max_iter=100, tol=0.1)"
      ]
     },
     "execution_count": 17,
     "metadata": {},
     "output_type": "execute_result"
    }
   ],
   "source": [
    "from sklearn import linear_model\n",
    "lasr=linear_model.Lasso(alpha=50,max_iter=100,tol=0.1)\n",
    "lasr.fit(x_train,y_train)"
   ]
  },
  {
   "cell_type": "code",
   "execution_count": 18,
   "id": "270e0ccc",
   "metadata": {},
   "outputs": [
    {
     "data": {
      "text/plain": [
       "0.5640340724071056"
      ]
     },
     "execution_count": 18,
     "metadata": {},
     "output_type": "execute_result"
    }
   ],
   "source": [
    "lasr.score(x_test,y_test)"
   ]
  },
  {
   "cell_type": "code",
   "execution_count": 19,
   "id": "4fface4a",
   "metadata": {},
   "outputs": [
    {
     "data": {
      "text/plain": [
       "0.5864765567528412"
      ]
     },
     "execution_count": 19,
     "metadata": {},
     "output_type": "execute_result"
    }
   ],
   "source": [
    "lasr.score(x_train,y_train)"
   ]
  },
  {
   "cell_type": "code",
   "execution_count": 20,
   "id": "d7947fde",
   "metadata": {},
   "outputs": [
    {
     "data": {
      "text/plain": [
       "array([701209.65171693])"
      ]
     },
     "execution_count": 20,
     "metadata": {},
     "output_type": "execute_result"
    }
   ],
   "source": [
    "lasr.predict(np.array(2022).reshape(-1,1))"
   ]
  },
  {
   "cell_type": "code",
   "execution_count": 21,
   "id": "163a7e37",
   "metadata": {},
   "outputs": [],
   "source": [
    "## The conclusion is that a slight difference was addressed by lasso regression. This is because linear regression less prone to over fitting for low dimensional data set."
   ]
  }
 ],
 "metadata": {
  "kernelspec": {
   "display_name": "Python 3 (ipykernel)",
   "language": "python",
   "name": "python3"
  },
  "language_info": {
   "codemirror_mode": {
    "name": "ipython",
    "version": 3
   },
   "file_extension": ".py",
   "mimetype": "text/x-python",
   "name": "python",
   "nbconvert_exporter": "python",
   "pygments_lexer": "ipython3",
   "version": "3.9.12"
  }
 },
 "nbformat": 4,
 "nbformat_minor": 5
}
